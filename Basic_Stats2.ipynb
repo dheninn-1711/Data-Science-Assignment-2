{
  "nbformat": 4,
  "nbformat_minor": 0,
  "metadata": {
    "colab": {
      "provenance": []
    },
    "kernelspec": {
      "name": "python3",
      "display_name": "Python 3"
    },
    "language_info": {
      "name": "python"
    }
  },
  "cells": [
    {
      "cell_type": "code",
      "execution_count": null,
      "metadata": {
        "id": "30HLPKuVJwjA"
      },
      "outputs": [],
      "source": [
        "from scipy import stats\n",
        "import pandas as pd\n",
        "import numpy as np"
      ]
    },
    {
      "cell_type": "code",
      "source": [
        "#Data\n",
        "durability=np.array([1.13, 1.55, 1.43, 0.92, 1.25, 1.36, 1.32, 0.85, 1.07, 1.48, 1.20, 1.33, 1.18, 1.22, 1.29])\n",
        "n=len(durability)"
      ],
      "metadata": {
        "id": "2AC5fN2gN77V"
      },
      "execution_count": null,
      "outputs": []
    },
    {
      "cell_type": "code",
      "source": [
        "#Mean and Standard Devation\n",
        "mean_durability=durability.mean()\n",
        "std_durability=durability.std()\n",
        "mean_durability,std_durability"
      ],
      "metadata": {
        "colab": {
          "base_uri": "https://localhost:8080/"
        },
        "id": "GkXWMpL6O3Dg",
        "outputId": "6c4d514d-cb6a-4978-a576-fb9858d88d34"
      },
      "execution_count": null,
      "outputs": [
        {
          "output_type": "execute_result",
          "data": {
            "text/plain": [
              "(1.2386666666666666, 0.18661427836285438)"
            ]
          },
          "metadata": {},
          "execution_count": 57
        }
      ]
    },
    {
      "cell_type": "code",
      "source": [
        "#Confidence Interval\n",
        "df = n - 1\n",
        "t_critical=stats.t.ppf(0.995,durability)\n",
        "t_critical"
      ],
      "metadata": {
        "colab": {
          "base_uri": "https://localhost:8080/"
        },
        "id": "XyrOkEQ3PYIg",
        "outputId": "e08e453d-d4f0-42e7-c317-840a23bc62b7"
      },
      "execution_count": null,
      "outputs": [
        {
          "output_type": "execute_result",
          "data": {
            "text/plain": [
              "array([ 40.55185369,  16.48368062,  20.08233292,  90.04955521,\n",
              "        29.27201895,  22.94715953,  24.94087204, 129.27429484,\n",
              "        49.19832425,  18.41543225,  33.2390283 ,  24.41399137,\n",
              "        35.0893006 ,  31.54790791,  26.64958477])"
            ]
          },
          "metadata": {},
          "execution_count": 78
        }
      ]
    },
    {
      "cell_type": "markdown",
      "source": [
        "For calculating the T score or T critical at 99% the value used is 0.995"
      ],
      "metadata": {
        "id": "QDqePISFiCpC"
      }
    },
    {
      "cell_type": "code",
      "source": [
        "#Margin of Error\n",
        "margin_of_error_t=t_critical*std_durability/np.sqrt(n)\n",
        "margin_of_error_t"
      ],
      "metadata": {
        "colab": {
          "base_uri": "https://localhost:8080/"
        },
        "id": "vJsdISb-PkKE",
        "outputId": "32f8e399-0f6f-46f0-cfb0-641866e69735"
      },
      "execution_count": null,
      "outputs": [
        {
          "output_type": "execute_result",
          "data": {
            "text/plain": [
              "array([1.95393428, 0.79424306, 0.96763909, 4.3389117 , 1.41043124,\n",
              "       1.10567674, 1.20174099, 6.22890085, 2.37055235, 0.88732181,\n",
              "       1.60157603, 1.17635398, 1.69072881, 1.52009176, 1.28407292])"
            ]
          },
          "metadata": {},
          "execution_count": 79
        }
      ]
    },
    {
      "cell_type": "markdown",
      "source": [
        "The range within which we expect the true mean to lie with a specified level of confidence."
      ],
      "metadata": {
        "id": "_jOcPL7vikeJ"
      }
    },
    {
      "cell_type": "code",
      "source": [
        "#Confidence Interval t\n",
        "t_confidence_interval=(mean_durability-margin_of_error_t,mean_durability+margin_of_error_t)\n",
        "t_confidence_interval"
      ],
      "metadata": {
        "colab": {
          "base_uri": "https://localhost:8080/"
        },
        "id": "WGtBaGP0hLzG",
        "outputId": "09fd91ed-a729-41b6-94b4-8490492cccf3"
      },
      "execution_count": null,
      "outputs": [
        {
          "output_type": "execute_result",
          "data": {
            "text/plain": [
              "(array([-0.71526761,  0.4444236 ,  0.27102758, -3.10024504, -0.17176457,\n",
              "         0.13298992,  0.03692568, -4.99023418, -1.13188568,  0.35134486,\n",
              "        -0.36290936,  0.06231268, -0.45206214, -0.28142509, -0.04540625]),\n",
              " array([3.19260094, 2.03290973, 2.20630575, 5.57757837, 2.6490979 ,\n",
              "        2.34434341, 2.44040766, 7.46756751, 3.60921902, 2.12598848,\n",
              "        2.84024269, 2.41502065, 2.92939547, 2.75875843, 2.52273959]))"
            ]
          },
          "metadata": {},
          "execution_count": 80
        }
      ]
    },
    {
      "cell_type": "markdown",
      "source": [
        "Here are the 99% confidence interval for the mean number of characters printed before the print-head fails using the sample standard deviation."
      ],
      "metadata": {
        "id": "bWDPz-fEjLeT"
      }
    },
    {
      "cell_type": "code",
      "source": [
        "#Confidence Interval z\n",
        "population_std=0.2\n",
        "z_critical=stats.norm.ppf(0.995)\n",
        "z_critical"
      ],
      "metadata": {
        "colab": {
          "base_uri": "https://localhost:8080/"
        },
        "id": "-Z-Vb6q3XTFj",
        "outputId": "5ff0f22a-f9b3-41a5-fc73-f5fb1aa98fe6"
      },
      "execution_count": null,
      "outputs": [
        {
          "output_type": "execute_result",
          "data": {
            "text/plain": [
              "2.5758293035489004"
            ]
          },
          "metadata": {},
          "execution_count": 81
        }
      ]
    },
    {
      "cell_type": "markdown",
      "source": [
        "The Z Score for population standard deviation at 99% Confidence Interval"
      ],
      "metadata": {
        "id": "vJqY4IyajvNX"
      }
    },
    {
      "cell_type": "code",
      "source": [
        "#Margin of Error\n",
        "margin_of_error_z=z_critical*population_std/np.sqrt(n)\n",
        "margin_of_error_z"
      ],
      "metadata": {
        "colab": {
          "base_uri": "https://localhost:8080/"
        },
        "id": "ADuHsnLoYTVT",
        "outputId": "657b3991-e224-4193-da35-d46b8d374c50"
      },
      "execution_count": null,
      "outputs": [
        {
          "output_type": "execute_result",
          "data": {
            "text/plain": [
              "0.13301525327090588"
            ]
          },
          "metadata": {},
          "execution_count": 82
        }
      ]
    },
    {
      "cell_type": "code",
      "source": [
        "z_confidence_interval=(mean_durability-margin_of_error_z,mean_durability+margin_of_error_z)\n",
        "z_confidence_interval"
      ],
      "metadata": {
        "colab": {
          "base_uri": "https://localhost:8080/"
        },
        "id": "zi90P5FxYmtB",
        "outputId": "ee7c275b-b412-40b2-d65b-eb765fc104fa"
      },
      "execution_count": null,
      "outputs": [
        {
          "output_type": "execute_result",
          "data": {
            "text/plain": [
              "(1.1056514133957607, 1.3716819199375725)"
            ]
          },
          "metadata": {},
          "execution_count": 83
        }
      ]
    },
    {
      "cell_type": "markdown",
      "source": [
        "Here are the 99% confidence interval for the mean number of characters printed before failure."
      ],
      "metadata": {
        "id": "NDrwmrhEkUSw"
      }
    }
  ]
}